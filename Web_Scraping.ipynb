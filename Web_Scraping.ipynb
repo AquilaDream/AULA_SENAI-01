{
  "nbformat": 4,
  "nbformat_minor": 0,
  "metadata": {
    "colab": {
      "provenance": [],
      "authorship_tag": "ABX9TyMK9+hIhcXFXMqlG8OuR46D",
      "include_colab_link": true
    },
    "kernelspec": {
      "name": "python3",
      "display_name": "Python 3"
    },
    "language_info": {
      "name": "python"
    }
  },
  "cells": [
    {
      "cell_type": "markdown",
      "metadata": {
        "id": "view-in-github",
        "colab_type": "text"
      },
      "source": [
        "<a href=\"https://colab.research.google.com/github/AquilaDream/AULA_SENAI-01/blob/main/Web_Scraping.ipynb\" target=\"_parent\"><img src=\"https://colab.research.google.com/assets/colab-badge.svg\" alt=\"Open In Colab\"/></a>"
      ]
    },
    {
      "cell_type": "code",
      "source": [
        "import requests\n",
        "from bs4 import BeautifulSoup\n",
        "import pandas as pd"
      ],
      "metadata": {
        "id": "FhOiiacISKHV"
      },
      "execution_count": 2,
      "outputs": []
    },
    {
      "cell_type": "code",
      "source": [
        "def traduzir_numero(numero_em_ingles):\n",
        "  #dicionario para traduzir os numeros\n",
        "  traducao = {\n",
        "      'one': 'um',\n",
        "      'two': 'dois',\n",
        "      'three': 'três',\n",
        "      'four': 'quatro',\n",
        "      \"five\": 'cinco',\n",
        "  }\n",
        "\n",
        "#retorna a tradução ou uma mensagem caso o numero não esteja no dicionario\n",
        "  return traducao.get(numero_em_ingles.lower(), \"Numero não encontrado\")"
      ],
      "metadata": {
        "id": "bwkLMCzISboy"
      },
      "execution_count": 4,
      "outputs": []
    },
    {
      "cell_type": "code",
      "execution_count": 5,
      "metadata": {
        "colab": {
          "base_uri": "https://localhost:8080/"
        },
        "id": "AZunFst8SHVO",
        "outputId": "6607879c-c60f-4647-cb31-4ff39feed279"
      },
      "outputs": [
        {
          "output_type": "stream",
          "name": "stdout",
          "text": [
            "Página 1 raspada.\n",
            "Página 2 raspada.\n",
            "Página 3 raspada.\n",
            "Página 4 raspada.\n",
            "Página 5 raspada.\n",
            "Página 6 raspada.\n",
            "Página 7 raspada.\n",
            "Página 8 raspada.\n",
            "Página 9 raspada.\n",
            "Página 10 raspada.\n",
            "Página 11 raspada.\n",
            "Página 12 raspada.\n",
            "Página 13 raspada.\n",
            "Página 14 raspada.\n",
            "Página 15 raspada.\n",
            "Página 16 raspada.\n",
            "Página 17 raspada.\n",
            "Página 18 raspada.\n",
            "Página 19 raspada.\n",
            "Página 20 raspada.\n",
            "Página 21 raspada.\n",
            "Página 22 raspada.\n",
            "Página 23 raspada.\n",
            "Página 24 raspada.\n",
            "Página 25 raspada.\n",
            "Página 26 raspada.\n",
            "Página 27 raspada.\n",
            "Página 28 raspada.\n",
            "Página 29 raspada.\n",
            "Página 30 raspada.\n",
            "Página 31 raspada.\n",
            "Página 32 raspada.\n",
            "Página 33 raspada.\n",
            "Página 34 raspada.\n",
            "Página 35 raspada.\n",
            "Página 36 raspada.\n",
            "Página 37 raspada.\n",
            "Página 38 raspada.\n",
            "Página 39 raspada.\n",
            "Página 40 raspada.\n",
            "Página 41 raspada.\n",
            "Página 42 raspada.\n",
            "Página 43 raspada.\n",
            "Página 44 raspada.\n",
            "Página 45 raspada.\n",
            "Página 46 raspada.\n",
            "Página 47 raspada.\n",
            "Página 48 raspada.\n",
            "Página 49 raspada.\n",
            "Página 50 raspada.\n",
            "Fim das páginas na página 51.\n",
            "                                  Titulo    Preço   Estoque    Nota\n",
            "0                   A Light in the Attic  Â£51.77  In stock    três\n",
            "1                     Tipping the Velvet  Â£53.74  In stock      um\n",
            "2                             Soumission  Â£50.10  In stock      um\n",
            "3                          Sharp Objects  Â£47.82  In stock  quatro\n",
            "4  Sapiens: A Brief History of Humankind  Â£54.23  In stock   cinco\n"
          ]
        }
      ],
      "source": [
        "# URL base para navegação\n",
        "url_base = 'https://books.toscrape.com/catalogue/'\n",
        "\n",
        "# Listas para armazenar os dados\n",
        "ls_titulo = []\n",
        "ls_preco = []\n",
        "ls_estoque = []\n",
        "ls_nota = []\n",
        "\n",
        "# Loop para percorrer todas as páginas\n",
        "pagina_atual = 1\n",
        "while True:\n",
        "    # URL da página atual\n",
        "    url = f'{url_base}page-{pagina_atual}.html'\n",
        "    response = requests.get(url)\n",
        "\n",
        "    # Verifica se a página existe\n",
        "    if response.status_code != 200:\n",
        "        print(f\"Fim das páginas na página {pagina_atual}.\")\n",
        "        break\n",
        "\n",
        "    # Faz a raspagem dos dados\n",
        "    soup = BeautifulSoup(response.text, 'html.parser')\n",
        "    for book in soup.select('article.product_pod'):\n",
        "        ls_titulo.append(book.h3.a['title'])\n",
        "        ls_preco.append(book.select_one('p.price_color').text)\n",
        "        ls_estoque.append(book.select_one('p.instock.availability').text.strip())\n",
        "\n",
        "        # Pegar a nota (estrelas)\n",
        "        star = book.select_one('p.star-rating')\n",
        "        ls_nota.append(traduzir_numero(star.get('class')[1].lower()))\n",
        "\n",
        "    print(f\"Página {pagina_atual} raspada.\")\n",
        "    pagina_atual += 1\n",
        "\n",
        "# Criar o DataFrame com os dados coletados\n",
        "pagina = pd.DataFrame({\n",
        "    'Titulo': ls_titulo,\n",
        "    'Preço': ls_preco,\n",
        "    'Estoque': ls_estoque,\n",
        "    'Nota': ls_nota\n",
        "})\n",
        "\n",
        "# Exibir os primeiros registros\n",
        "print(pagina.head())"
      ]
    },
    {
      "cell_type": "code",
      "source": [
        "pagina.to_excel('book.xlsx')"
      ],
      "metadata": {
        "id": "5XklbwgCShAB"
      },
      "execution_count": 7,
      "outputs": []
    },
    {
      "cell_type": "code",
      "source": [
        "import pandas as pd\n",
        "import seaborn as sns\n",
        "import matplotlib.pyplot as plt"
      ],
      "metadata": {
        "id": "ZT5C9ixJSnEE"
      },
      "execution_count": 12,
      "outputs": []
    },
    {
      "cell_type": "code",
      "source": [
        "df = pd.read_excel('/content/book.xlsx')"
      ],
      "metadata": {
        "id": "LoXS5nbSS_te"
      },
      "execution_count": 11,
      "outputs": []
    },
    {
      "cell_type": "code",
      "source": [
        "# Limpeza de dados\n",
        "# 1.Converter a coluna 'Preço' de string para float\n",
        "df['Preço'] = df['Preço'].replace('[£]', '', regex=True).replace('[Â]', '', regex=True).astype(float)\n",
        "\n",
        "nota_mapa = {'um': 1,'dois': 2, 'tres': 3, 'quatro': 4, 'cinco': 5}\n",
        "df['Nota'] = df['Nota'].map(nota_mapa)"
      ],
      "metadata": {
        "id": "Z0m7zni4XX_c"
      },
      "execution_count": 13,
      "outputs": []
    },
    {
      "cell_type": "code",
      "source": [
        "# Analise estatistica\n",
        "# Media, mediana e desvio padrao dos preços\n",
        "media_preco = df['Preço'].mean()\n",
        "mediana_preco = df['Preço'].mean()\n",
        "desvio_preco = df['Preço'].std()\n",
        "\n",
        "# Preço medio por nota\n",
        "media_preco_por_nota = df.groupby('Nota')['Preço'].mean()\n",
        "\n",
        "# Resultado estatisticos\n",
        "print('Media dos preços: £{:.2f}'.format(media_preco))\n",
        "print('Mediana dos preços: £{:.2f}'.format(mediana_preco))\n",
        "print('Desvio padrão dos preços: £{:.2f}'.format(desvio_preco))\n",
        "print('\\nPreço medio por nota:')\n",
        "print(media_preco_por_nota)"
      ],
      "metadata": {
        "colab": {
          "base_uri": "https://localhost:8080/"
        },
        "id": "XOeDcd8jbXlv",
        "outputId": "944f8963-9da6-485f-c7e7-e774ddc80e1d"
      },
      "execution_count": 14,
      "outputs": [
        {
          "output_type": "stream",
          "name": "stdout",
          "text": [
            "Media dos preços: £35.07\n",
            "Mediana dos preços: £35.07\n",
            "Desvio padrão dos preços: £14.45\n",
            "\n",
            "Preço medio por nota:\n",
            "Nota\n",
            "1.0    34.561195\n",
            "2.0    34.810918\n",
            "4.0    36.093296\n",
            "5.0    35.374490\n",
            "Name: Preço, dtype: float64\n"
          ]
        }
      ]
    },
    {
      "cell_type": "code",
      "source": [
        "# Visualização 1: Relação entre notas e preços\n",
        "plt.figure(figsize=(8, 5))\n",
        "sns.boxplot(x='Nota', y='Preço', data=df, palette='Blues')\n",
        "plt.title('Distribuição de Preços por Nota')\n",
        "plt.xlabel('Nota (1 a 5)')\n",
        "plt.ylabel('Preço (£)')\n",
        "plt.show()"
      ],
      "metadata": {
        "colab": {
          "base_uri": "https://localhost:8080/",
          "height": 574
        },
        "id": "91rYvwEIfEn2",
        "outputId": "8eaa2b79-f350-4766-dbda-29acebfaeb9b"
      },
      "execution_count": 16,
      "outputs": [
        {
          "output_type": "stream",
          "name": "stderr",
          "text": [
            "<ipython-input-16-64014d39f526>:3: FutureWarning: \n",
            "\n",
            "Passing `palette` without assigning `hue` is deprecated and will be removed in v0.14.0. Assign the `x` variable to `hue` and set `legend=False` for the same effect.\n",
            "\n",
            "  sns.boxplot(x='Nota', y='Preço', data=df, palette='Blues')\n"
          ]
        },
        {
          "output_type": "display_data",
          "data": {
            "text/plain": [
              "<Figure size 800x500 with 1 Axes>"
            ],
            "image/png": "[encoded data removed]"
          },
          "metadata": {}
        }
      ]
    },
    {
      "cell_type": "code",
      "source": [],
      "metadata": {
        "id": "1NRTTQQtjNpy"
      },
      "execution_count": null,
      "outputs": []
    }
  ]
}