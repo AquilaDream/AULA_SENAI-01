{
  "nbformat": 4,
  "nbformat_minor": 0,
  "metadata": {
    "colab": {
      "provenance": [],
      "authorship_tag": "ABX9TyNNdvzcnhlretR0yfwpM0ke",
      "include_colab_link": true
    },
    "kernelspec": {
      "name": "python3",
      "display_name": "Python 3"
    },
    "language_info": {
      "name": "python"
    }
  },
  "cells": [
    {
      "cell_type": "markdown",
      "metadata": {
        "id": "view-in-github",
        "colab_type": "text"
      },
      "source": [
        "<a href=\"https://colab.research.google.com/github/AquilaDream/AULA_SENAI-01/blob/main/NUMPY.ipynb\" target=\"_parent\"><img src=\"https://colab.research.google.com/assets/colab-badge.svg\" alt=\"Open In Colab\"/></a>"
      ]
    },
    {
      "cell_type": "code",
      "execution_count": 9,
      "metadata": {
        "id": "UF0Pe4OCPWa8"
      },
      "outputs": [],
      "source": [
        "# PUXANDO UMA TABELA DO EXCEL EM UMA ARRAY COMO PLANILHA\n",
        "\n",
        "import numpy as np\n",
        "goiaba_csv = np.genfromtxt('/content/goiaba.csv', delimiter=',')"
      ]
    },
    {
      "cell_type": "code",
      "source": [
        "goiaba_csv"
      ],
      "metadata": {
        "colab": {
          "base_uri": "https://localhost:8080/"
        },
        "id": "w-KNmNEvQOFn",
        "outputId": "8a422950-a14b-4374-fabf-d5b33a74bbcc"
      },
      "execution_count": 10,
      "outputs": [
        {
          "output_type": "execute_result",
          "data": {
            "text/plain": [
              "array([[23., 29., 95.],\n",
              "       [24., 20., 21.],\n",
              "       [18., 23., 16.],\n",
              "       [19., 30., 36.]])"
            ]
          },
          "metadata": {},
          "execution_count": 10
        }
      ]
    },
    {
      "cell_type": "code",
      "source": [
        "pesos = np.array([0.4, 0.2, 0.8])"
      ],
      "metadata": {
        "id": "2Aj7aj6PQR2W"
      },
      "execution_count": 12,
      "outputs": []
    },
    {
      "cell_type": "code",
      "source": [
        "rendimento = goiaba_csv @ pesos\n",
        "rendimento"
      ],
      "metadata": {
        "colab": {
          "base_uri": "https://localhost:8080/"
        },
        "id": "Jj-gDi2EQZPH",
        "outputId": "d5fa288e-a744-43e8-8e2a-8cfdd7933700"
      },
      "execution_count": 13,
      "outputs": [
        {
          "output_type": "execute_result",
          "data": {
            "text/plain": [
              "array([91. , 30.4, 24.6, 42.4])"
            ]
          },
          "metadata": {},
          "execution_count": 13
        }
      ]
    },
    {
      "cell_type": "code",
      "source": [
        "import numpy as np\n",
        "\n",
        "resultado = np.concatenate((goiaba_csv, rendimento.reshape(4, 1)), axis=1)\n",
        "resultado"
      ],
      "metadata": {
        "colab": {
          "base_uri": "https://localhost:8080/"
        },
        "id": "4az1iT3YS2D5",
        "outputId": "ae70a9b7-3f4e-49d6-87df-6589aecef17b"
      },
      "execution_count": 18,
      "outputs": [
        {
          "output_type": "execute_result",
          "data": {
            "text/plain": [
              "array([[23. , 29. , 95. , 91. ],\n",
              "       [24. , 20. , 21. , 30.4],\n",
              "       [18. , 23. , 16. , 24.6],\n",
              "       [19. , 30. , 36. , 42.4]])"
            ]
          },
          "metadata": {},
          "execution_count": 18
        }
      ]
    },
    {
      "cell_type": "code",
      "source": [
        "#AGORA É SO SALVAR\n",
        "\n",
        "np.savetxt('goiaba_resultado.csv',\n",
        "           resultado,\n",
        "           fmt='%.2f',\n",
        "           delimiter=',',\n",
        "           header='temperatura, precipitação, umidade, rendimento',\n",
        "           comments=\"\")"
      ],
      "metadata": {
        "id": "unG-Fu0qT8y9"
      },
      "execution_count": 19,
      "outputs": []
    }
  ]
}